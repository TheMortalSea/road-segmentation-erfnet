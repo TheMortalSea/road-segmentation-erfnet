{
 "cells": [
  {
   "cell_type": "code",
   "execution_count": 4,
   "metadata": {},
   "outputs": [],
   "source": [
    "import os\n",
    "import glob\n",
    "import rasterio\n",
    "from rasterio.merge import merge\n",
    "from rasterio.plot import show\n",
    "\n",
    "OUTPUT_DIR = \"\"\n",
    "MOSAIC_DIR = \"\"\n",
    "os.makedirs(MOSAIC_DIR, exist_ok=True)\n",
    "\n",
    "def mosaic_rasters(pattern, output_path):\n",
    "    # Get all matching raster files\n",
    "    raster_files = glob.glob(pattern)\n",
    "    if not raster_files:\n",
    "        print(f\"⚠️ No rasters found for pattern: {pattern}\")\n",
    "        return\n",
    "\n",
    "    src_files_to_mosaic = [rasterio.open(fp) for fp in raster_files]\n",
    "\n",
    "    # Merge rasters\n",
    "    mosaic, out_trans = merge(src_files_to_mosaic)\n",
    "\n",
    "    # Copy metadata from one of the input files and update\n",
    "    out_meta = src_files_to_mosaic[0].meta.copy()\n",
    "    out_meta.update({\n",
    "        \"driver\": \"GTiff\",\n",
    "        \"height\": mosaic.shape[1],\n",
    "        \"width\": mosaic.shape[2],\n",
    "        \"transform\": out_trans\n",
    "    })\n",
    "\n",
    "    # Write the mosaic raster\n",
    "    with rasterio.open(output_path, \"w\", **out_meta) as dest:\n",
    "        dest.write(mosaic)\n",
    "\n",
    "    # Close all raster files\n",
    "    for src in src_files_to_mosaic:\n",
    "        src.close()\n",
    "\n",
    "    print(f\"✅ Mosaic saved to: {output_path}\")\n",
    "\n",
    "def main():\n",
    "    # Define file patterns and output file names\n",
    "    raster_types = [\"dsm\", \"dtm\", \"ndsm\", \"intensity\"]\n",
    "\n",
    "    for raster_type in raster_types:\n",
    "        pattern = os.path.join(OUTPUT_DIR, f\"*_{raster_type}.tif\")\n",
    "        output_path = os.path.join(MOSAIC_DIR, f\"{raster_type}_mosaic.tif\")\n",
    "        print(f\"🧩 Mosaicking {raster_type.upper()} rasters...\")\n",
    "        mosaic_rasters(pattern, output_path)\n",
    "\n",
    "    print(\"🎉 All mosaics created!\")"
   ]
  },
  {
   "cell_type": "code",
   "execution_count": 5,
   "metadata": {},
   "outputs": [
    {
     "name": "stdout",
     "output_type": "stream",
     "text": [
      "🧩 Mosaicking DSM rasters...\n",
      "✅ Mosaic saved to: /Users/main/grad_school/term2_assessments/GeoAI/lidar_mosaic/dsm_mosaic.tif\n",
      "🧩 Mosaicking DTM rasters...\n",
      "✅ Mosaic saved to: /Users/main/grad_school/term2_assessments/GeoAI/lidar_mosaic/dtm_mosaic.tif\n",
      "🧩 Mosaicking NDSM rasters...\n",
      "✅ Mosaic saved to: /Users/main/grad_school/term2_assessments/GeoAI/lidar_mosaic/ndsm_mosaic.tif\n",
      "🧩 Mosaicking INTENSITY rasters...\n",
      "✅ Mosaic saved to: /Users/main/grad_school/term2_assessments/GeoAI/lidar_mosaic/intensity_mosaic.tif\n",
      "🎉 All mosaics created!\n"
     ]
    }
   ],
   "source": [
    "main()"
   ]
  },
  {
   "cell_type": "code",
   "execution_count": null,
   "metadata": {},
   "outputs": [],
   "source": []
  }
 ],
 "metadata": {
  "kernelspec": {
   "display_name": "road-segmentation",
   "language": "python",
   "name": "python3"
  },
  "language_info": {
   "codemirror_mode": {
    "name": "ipython",
    "version": 3
   },
   "file_extension": ".py",
   "mimetype": "text/x-python",
   "name": "python",
   "nbconvert_exporter": "python",
   "pygments_lexer": "ipython3",
   "version": "3.10.17"
  }
 },
 "nbformat": 4,
 "nbformat_minor": 2
}
