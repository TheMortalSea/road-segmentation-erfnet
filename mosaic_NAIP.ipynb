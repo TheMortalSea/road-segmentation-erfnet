{
 "cells": [
  {
   "cell_type": "code",
   "execution_count": 1,
   "metadata": {},
   "outputs": [
    {
     "name": "stdout",
     "output_type": "stream",
     "text": [
      "Mosaic saved to: /Users/main/grad_school/term2_assessments/GeoAI/NAIP_mosaic/NAIP_Mosaic.tif\n"
     ]
    }
   ],
   "source": [
    "import os\n",
    "import rasterio\n",
    "from rasterio.merge import merge\n",
    "from rasterio.plot import show\n",
    "from rasterio.enums import Resampling\n",
    "\n",
    "# --- Set your input and output paths ---\n",
    "input_folder = 'NAIP_data_raw'\n",
    "output_mosaic_path = 'NAIP_Mosaic.tif'\n",
    "\n",
    "# --- Find all .tif files in the input folder ---\n",
    "tif_files = [os.path.join(input_folder, f) for f in os.listdir(input_folder) if f.endswith('.tif')]\n",
    "\n",
    "# --- Open all the NAIP tiles as rasterio datasets ---\n",
    "src_files_to_mosaic = [rasterio.open(fp) for fp in tif_files]\n",
    "\n",
    "# --- Merge the tiles ---\n",
    "mosaic, out_transform = merge(src_files_to_mosaic)\n",
    "\n",
    "# --- Copy metadata from one of the tiles and update it ---\n",
    "out_meta = src_files_to_mosaic[0].meta.copy()\n",
    "out_meta.update({\n",
    "    \"driver\": \"GTiff\",\n",
    "    \"height\": mosaic.shape[1],\n",
    "    \"width\": mosaic.shape[2],\n",
    "    \"transform\": out_transform,\n",
    "    \"count\": mosaic.shape[0]\n",
    "})\n",
    "\n",
    "# --- Write the final mosaic to disk ---\n",
    "with rasterio.open(output_mosaic_path, \"w\", **out_meta) as dest:\n",
    "    dest.write(mosaic)\n",
    "\n",
    "print(f\"Mosaic saved to: {output_mosaic_path}\")\n"
   ]
  },
  {
   "cell_type": "code",
   "execution_count": null,
   "metadata": {},
   "outputs": [],
   "source": []
  }
 ],
 "metadata": {
  "kernelspec": {
   "display_name": "road-segmentation",
   "language": "python",
   "name": "python3"
  },
  "language_info": {
   "codemirror_mode": {
    "name": "ipython",
    "version": 3
   },
   "file_extension": ".py",
   "mimetype": "text/x-python",
   "name": "python",
   "nbconvert_exporter": "python",
   "pygments_lexer": "ipython3",
   "version": "3.10.17"
  }
 },
 "nbformat": 4,
 "nbformat_minor": 2
}
